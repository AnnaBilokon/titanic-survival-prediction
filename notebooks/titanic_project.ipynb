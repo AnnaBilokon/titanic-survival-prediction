{
 "cells": [
  {
   "cell_type": "markdown",
   "id": "65d0ddb2",
   "metadata": {},
   "source": [
    "## Goal \n",
    "### Predict passenger survival (Survived) from tabular data."
   ]
  },
  {
   "cell_type": "markdown",
   "id": "528a3dd4",
   "metadata": {},
   "source": [
    "## Imports and settings "
   ]
  },
  {
   "cell_type": "code",
   "execution_count": 16,
   "id": "32696d64",
   "metadata": {},
   "outputs": [
    {
     "name": "stdout",
     "output_type": "stream",
     "text": [
      "Python: 3.13.3\n"
     ]
    }
   ],
   "source": [
    "import sys, os\n",
    "sys.path.append(os.path.abspath(\"../src\"))\n",
    "\n",
    "import pandas as pd\n",
    "\n",
    "pd.set_option(\"display.max_colwidth\", 120)\n",
    "\n",
    "print(\"Python:\", sys.version.split()[0])\n"
   ]
  },
  {
   "cell_type": "code",
   "execution_count": 17,
   "id": "20987e86",
   "metadata": {},
   "outputs": [
    {
     "name": "stdout",
     "output_type": "stream",
     "text": [
      "The autoreload extension is already loaded. To reload it, use:\n",
      "  %reload_ext autoreload\n"
     ]
    }
   ],
   "source": [
    "%load_ext autoreload\n",
    "%autoreload 2\n",
    "\n",
    "import importlib, features\n",
    "importlib.reload(features)\n",
    "\n",
    "from features import add_age_category\n"
   ]
  },
  {
   "cell_type": "code",
   "execution_count": null,
   "id": "4afe53d2",
   "metadata": {},
   "outputs": [],
   "source": []
  },
  {
   "cell_type": "markdown",
   "id": "539505e1",
   "metadata": {},
   "source": [
    "## Load data & observation"
   ]
  },
  {
   "cell_type": "code",
   "execution_count": 18,
   "id": "d385dbc5",
   "metadata": {},
   "outputs": [
    {
     "name": "stdout",
     "output_type": "stream",
     "text": [
      "Shape: (891, 12)\n",
      "<class 'pandas.core.frame.DataFrame'>\n",
      "RangeIndex: 891 entries, 0 to 890\n",
      "Data columns (total 12 columns):\n",
      " #   Column       Non-Null Count  Dtype  \n",
      "---  ------       --------------  -----  \n",
      " 0   PassengerId  891 non-null    int64  \n",
      " 1   Survived     891 non-null    int64  \n",
      " 2   Pclass       891 non-null    int64  \n",
      " 3   Name         891 non-null    object \n",
      " 4   Sex          891 non-null    object \n",
      " 5   Age          714 non-null    float64\n",
      " 6   SibSp        891 non-null    int64  \n",
      " 7   Parch        891 non-null    int64  \n",
      " 8   Ticket       891 non-null    object \n",
      " 9   Fare         891 non-null    float64\n",
      " 10  Cabin        204 non-null    object \n",
      " 11  Embarked     889 non-null    object \n",
      "dtypes: float64(2), int64(5), object(5)\n",
      "memory usage: 83.7+ KB\n"
     ]
    },
    {
     "data": {
      "text/html": [
       "<div>\n",
       "<style scoped>\n",
       "    .dataframe tbody tr th:only-of-type {\n",
       "        vertical-align: middle;\n",
       "    }\n",
       "\n",
       "    .dataframe tbody tr th {\n",
       "        vertical-align: top;\n",
       "    }\n",
       "\n",
       "    .dataframe thead th {\n",
       "        text-align: right;\n",
       "    }\n",
       "</style>\n",
       "<table border=\"1\" class=\"dataframe\">\n",
       "  <thead>\n",
       "    <tr style=\"text-align: right;\">\n",
       "      <th></th>\n",
       "      <th>PassengerId</th>\n",
       "      <th>Survived</th>\n",
       "      <th>Pclass</th>\n",
       "      <th>Age</th>\n",
       "      <th>SibSp</th>\n",
       "      <th>Parch</th>\n",
       "      <th>Fare</th>\n",
       "    </tr>\n",
       "  </thead>\n",
       "  <tbody>\n",
       "    <tr>\n",
       "      <th>count</th>\n",
       "      <td>891.000000</td>\n",
       "      <td>891.000000</td>\n",
       "      <td>891.000000</td>\n",
       "      <td>714.000000</td>\n",
       "      <td>891.000000</td>\n",
       "      <td>891.000000</td>\n",
       "      <td>891.000000</td>\n",
       "    </tr>\n",
       "    <tr>\n",
       "      <th>mean</th>\n",
       "      <td>446.000000</td>\n",
       "      <td>0.383838</td>\n",
       "      <td>2.308642</td>\n",
       "      <td>29.699118</td>\n",
       "      <td>0.523008</td>\n",
       "      <td>0.381594</td>\n",
       "      <td>32.204208</td>\n",
       "    </tr>\n",
       "    <tr>\n",
       "      <th>std</th>\n",
       "      <td>257.353842</td>\n",
       "      <td>0.486592</td>\n",
       "      <td>0.836071</td>\n",
       "      <td>14.526497</td>\n",
       "      <td>1.102743</td>\n",
       "      <td>0.806057</td>\n",
       "      <td>49.693429</td>\n",
       "    </tr>\n",
       "    <tr>\n",
       "      <th>min</th>\n",
       "      <td>1.000000</td>\n",
       "      <td>0.000000</td>\n",
       "      <td>1.000000</td>\n",
       "      <td>0.420000</td>\n",
       "      <td>0.000000</td>\n",
       "      <td>0.000000</td>\n",
       "      <td>0.000000</td>\n",
       "    </tr>\n",
       "    <tr>\n",
       "      <th>25%</th>\n",
       "      <td>223.500000</td>\n",
       "      <td>0.000000</td>\n",
       "      <td>2.000000</td>\n",
       "      <td>20.125000</td>\n",
       "      <td>0.000000</td>\n",
       "      <td>0.000000</td>\n",
       "      <td>7.910400</td>\n",
       "    </tr>\n",
       "    <tr>\n",
       "      <th>50%</th>\n",
       "      <td>446.000000</td>\n",
       "      <td>0.000000</td>\n",
       "      <td>3.000000</td>\n",
       "      <td>28.000000</td>\n",
       "      <td>0.000000</td>\n",
       "      <td>0.000000</td>\n",
       "      <td>14.454200</td>\n",
       "    </tr>\n",
       "    <tr>\n",
       "      <th>75%</th>\n",
       "      <td>668.500000</td>\n",
       "      <td>1.000000</td>\n",
       "      <td>3.000000</td>\n",
       "      <td>38.000000</td>\n",
       "      <td>1.000000</td>\n",
       "      <td>0.000000</td>\n",
       "      <td>31.000000</td>\n",
       "    </tr>\n",
       "    <tr>\n",
       "      <th>max</th>\n",
       "      <td>891.000000</td>\n",
       "      <td>1.000000</td>\n",
       "      <td>3.000000</td>\n",
       "      <td>80.000000</td>\n",
       "      <td>8.000000</td>\n",
       "      <td>6.000000</td>\n",
       "      <td>512.329200</td>\n",
       "    </tr>\n",
       "  </tbody>\n",
       "</table>\n",
       "</div>"
      ],
      "text/plain": [
       "       PassengerId    Survived      Pclass         Age       SibSp  \\\n",
       "count   891.000000  891.000000  891.000000  714.000000  891.000000   \n",
       "mean    446.000000    0.383838    2.308642   29.699118    0.523008   \n",
       "std     257.353842    0.486592    0.836071   14.526497    1.102743   \n",
       "min       1.000000    0.000000    1.000000    0.420000    0.000000   \n",
       "25%     223.500000    0.000000    2.000000   20.125000    0.000000   \n",
       "50%     446.000000    0.000000    3.000000   28.000000    0.000000   \n",
       "75%     668.500000    1.000000    3.000000   38.000000    1.000000   \n",
       "max     891.000000    1.000000    3.000000   80.000000    8.000000   \n",
       "\n",
       "            Parch        Fare  \n",
       "count  891.000000  891.000000  \n",
       "mean     0.381594   32.204208  \n",
       "std      0.806057   49.693429  \n",
       "min      0.000000    0.000000  \n",
       "25%      0.000000    7.910400  \n",
       "50%      0.000000   14.454200  \n",
       "75%      0.000000   31.000000  \n",
       "max      6.000000  512.329200  "
      ]
     },
     "execution_count": 18,
     "metadata": {},
     "output_type": "execute_result"
    }
   ],
   "source": [
    "\n",
    "df_train = pd.read_csv('../data/train.csv')\n",
    "df_test = pd.read_csv('../data/test.csv')\n",
    "print(\"Shape:\", df_train.shape)\n",
    "df_train.info()\n",
    "df_train.describe()"
   ]
  },
  {
   "cell_type": "markdown",
   "id": "4548140a",
   "metadata": {},
   "source": [
    "### Problems \n",
    "During Exploratory Data Analysis (EDA), I identified several issues that need to be handled before modeling:\n",
    "\n",
    "1. Missing values in some categories (Age, Cabin, Embarked, Fare (in test data))\n",
    "\n",
    "2. Noisy / Inconsistent columns\n",
    "\n",
    "- Cabin: Mix of letters/numbers, too many NaNs → not usable directly.\n",
    "\n",
    "- Ticket: Inconsistent formats (letters + numbers), duplicated tickets, not clean.\n",
    "\n",
    "3. Categorical columns\n",
    "\n",
    "- Sex: Needs encoding (male/female to 0/1).\n",
    "\n",
    "- Pclass: Should be one-hot encoded for some models.\n",
    "\n",
    "- Embarked: Categorical with missing values.\n",
    "\n",
    "4.  Outliers / Skewed data\n",
    "\n",
    "- Fare: Very skewed distribution with some extremely high values.\n",
    "\n",
    "- Will need log transformation."
   ]
  },
  {
   "cell_type": "markdown",
   "id": "701a1d28",
   "metadata": {},
   "source": [
    "## Missing values in the dataset"
   ]
  },
  {
   "cell_type": "code",
   "execution_count": 302,
   "id": "33677626",
   "metadata": {},
   "outputs": [
    {
     "data": {
      "text/html": [
       "<div>\n",
       "<style scoped>\n",
       "    .dataframe tbody tr th:only-of-type {\n",
       "        vertical-align: middle;\n",
       "    }\n",
       "\n",
       "    .dataframe tbody tr th {\n",
       "        vertical-align: top;\n",
       "    }\n",
       "\n",
       "    .dataframe thead th {\n",
       "        text-align: right;\n",
       "    }\n",
       "</style>\n",
       "<table border=\"1\" class=\"dataframe\">\n",
       "  <thead>\n",
       "    <tr style=\"text-align: right;\">\n",
       "      <th></th>\n",
       "      <th>missing</th>\n",
       "      <th>pct</th>\n",
       "    </tr>\n",
       "  </thead>\n",
       "  <tbody>\n",
       "    <tr>\n",
       "      <th>Cabin</th>\n",
       "      <td>687</td>\n",
       "      <td>77.10</td>\n",
       "    </tr>\n",
       "    <tr>\n",
       "      <th>Age</th>\n",
       "      <td>177</td>\n",
       "      <td>19.87</td>\n",
       "    </tr>\n",
       "    <tr>\n",
       "      <th>Embarked</th>\n",
       "      <td>2</td>\n",
       "      <td>0.22</td>\n",
       "    </tr>\n",
       "  </tbody>\n",
       "</table>\n",
       "</div>"
      ],
      "text/plain": [
       "          missing    pct\n",
       "Cabin         687  77.10\n",
       "Age           177  19.87\n",
       "Embarked        2   0.22"
      ]
     },
     "metadata": {},
     "output_type": "display_data"
    },
    {
     "data": {
      "text/html": [
       "<div>\n",
       "<style scoped>\n",
       "    .dataframe tbody tr th:only-of-type {\n",
       "        vertical-align: middle;\n",
       "    }\n",
       "\n",
       "    .dataframe tbody tr th {\n",
       "        vertical-align: top;\n",
       "    }\n",
       "\n",
       "    .dataframe thead th {\n",
       "        text-align: right;\n",
       "    }\n",
       "</style>\n",
       "<table border=\"1\" class=\"dataframe\">\n",
       "  <thead>\n",
       "    <tr style=\"text-align: right;\">\n",
       "      <th></th>\n",
       "      <th>missing</th>\n",
       "      <th>pct</th>\n",
       "    </tr>\n",
       "  </thead>\n",
       "  <tbody>\n",
       "    <tr>\n",
       "      <th>Cabin</th>\n",
       "      <td>327</td>\n",
       "      <td>78.23</td>\n",
       "    </tr>\n",
       "    <tr>\n",
       "      <th>Age</th>\n",
       "      <td>86</td>\n",
       "      <td>20.57</td>\n",
       "    </tr>\n",
       "    <tr>\n",
       "      <th>Fare</th>\n",
       "      <td>1</td>\n",
       "      <td>0.24</td>\n",
       "    </tr>\n",
       "  </tbody>\n",
       "</table>\n",
       "</div>"
      ],
      "text/plain": [
       "       missing    pct\n",
       "Cabin      327  78.23\n",
       "Age         86  20.57\n",
       "Fare         1   0.24"
      ]
     },
     "metadata": {},
     "output_type": "display_data"
    }
   ],
   "source": [
    "def missing_report(ddf: pd.DataFrame) -> pd.DataFrame:\n",
    "    m = ddf.isna().sum()\n",
    "    out = pd.DataFrame({\"missing\": m, \"pct\": (m / len(ddf) * 100).round(2)})\n",
    "    return out[out[\"missing\"] > 0].sort_values(\"missing\", ascending=False)\n",
    "\n",
    "display(missing_report(df_train))\n",
    "display(missing_report(df_test))"
   ]
  },
  {
   "cell_type": "markdown",
   "id": "e0641795",
   "metadata": {},
   "source": [
    "## Preprocessing Steps \n",
    "1. Handle missing values and processing outliers \n",
    "\n",
    "2. Standartization and normalization\n",
    "\n",
    "3. Data conversation \n",
    "\n",
    "4. Feature Engineering (FamilySize, HasCabin, Deck, LogFare, Title (from Name).)\n"
   ]
  },
  {
   "cell_type": "markdown",
   "id": "fc7dbf6c",
   "metadata": {},
   "source": [
    "### Impute Embarked with most common value (mode)\n",
    "\n",
    "- Only a couple of rows have missing Embarked values\n",
    "\n",
    "- I use the most common category (mode) from train data as the fill value for missing data\n",
    "\n",
    "- Why use train’s most common value for test?\n",
    "Because the model should only “learn” from the train data. If we calculate the mode from test, we’d be peeking into data the model shouldn’t see (data leakage). That’s why we take the most common Embarked value from train and use it for both train and test."
   ]
  },
  {
   "cell_type": "markdown",
   "id": "0216a433",
   "metadata": {},
   "source": [
    "## Handling the Age Column\n",
    "\n",
    "- The Age column has many missing values (~177).\n",
    "- To preserve age-related patterns, I will use passengers’ Title (from the Name column) as a grouping variable.\n",
    "- Extract title (Mr, Mrs, Miss etc) which show us age, gender and social status (Title feature)\n",
    "- Map unusual titles to \"Other\"\n",
    "- Missing ages will be filled with the median age of passengers sharing the same Title (e.g., Mr, Mrs, Miss, Master)."
   ]
  },
  {
   "cell_type": "markdown",
   "id": "bf20ee57",
   "metadata": {},
   "source": [
    "## Handling the Ticket Column\n",
    "\n",
    "- The Ticket column has many inconsistencies (mix of numbers and letters) and does not provide clear, structured information.\n",
    "\n",
    "- Some tickets are shared by multiple passengers, which could indicate family or group travel — but this information is already captured by feature FamilySize.\n",
    "\n",
    "- Because of its noisy nature and limited predictive power, I will drop the raw Ticket column."
   ]
  },
  {
   "cell_type": "markdown",
   "id": "f3ce80fa",
   "metadata": {},
   "source": [
    "## Data conversation"
   ]
  },
  {
   "cell_type": "markdown",
   "id": "bfd0dad1",
   "metadata": {},
   "source": [
    "### Convert data in Sex column \n",
    "- I convert categorical values male/female to numerical format for the better performance from the model (for both train and test data)"
   ]
  },
  {
   "cell_type": "markdown",
   "id": "fc35a529",
   "metadata": {},
   "source": [
    "\n",
    "### Handling the Pclass Column\n",
    "- The Pclass column represents passenger class (1st, 2nd, 3rd). It is categorical, for linear models it’s safer to one-hot encode Pclass. \n",
    "- I create three separate binary columns\n",
    "- I keep Pclass_raw data for EDA"
   ]
  },
  {
   "cell_type": "markdown",
   "id": "032db1cc",
   "metadata": {},
   "source": [
    "## Engineering features"
   ]
  },
  {
   "cell_type": "markdown",
   "id": "887698d5",
   "metadata": {},
   "source": [
    "### Handling the Cabin Column (HasCabin, Deck features)\n",
    "\n",
    "- The Cabin column has many missing values (~77%), so keeping the raw data is not useful for the model.\n",
    "\n",
    "- To still capture useful information, I will create a new binary feature HasCabin (1 if Cabin is present, 0 otherwise).\n",
    "\n",
    "- Additionally, I will extract the deck letter (first character of the cabin, e.g., A, B, C…) into a new column, and assign Unknown for missing values.\n",
    "\n",
    "- I keep the raw Cabin column for reference, but it will not be used as a model feature."
   ]
  },
  {
   "cell_type": "markdown",
   "id": "04adecff",
   "metadata": {},
   "source": [
    "### Title feature  (look above at the Age column adjestments)\n",
    "- Extract title (Mr, Mrs, Miss etc) which show us age, gender and social status \n",
    "- Map unusual titles to \"Other\""
   ]
  },
  {
   "cell_type": "markdown",
   "id": "63e507d8",
   "metadata": {},
   "source": [
    "### Age_category feature \n",
    "\n",
    "- Creare age categories: child 0-17, adult 18-59, senior 60-100"
   ]
  },
  {
   "cell_type": "markdown",
   "id": "1ddde9d3",
   "metadata": {},
   "source": [
    "### Create FamilySize feature  \n",
    "\n",
    "- FamilySize = SibSp + Parch + 1 (the +1 includes the passenger themselves).\n",
    "\n",
    "- This feature may help the model, because survival chances could depend on whether someone traveled alone or with family."
   ]
  },
  {
   "cell_type": "markdown",
   "id": "c6aa439d",
   "metadata": {},
   "source": [
    "### Handling the Fare Column (LogFare feature)\n",
    "\n",
    "- The Fare column represents the ticket price paid by a passenger.\n",
    "\n",
    "- It has a wide range (from 0 up to 512).\n",
    "\n",
    "- A few tickets are duplicated because passengers often shared a ticket (families or groups).\n",
    "\n",
    "- I apply a log transformation (LogFare = log1p(Fare)) to reduce the effect of extreme values and make the distribution more balanced. Taking the log “compresses” the big numbers and spreads out the small ones that makes the distribution more balanced.\n",
    "\n",
    "- I keep both raw Fare and engineered LogFare\n"
   ]
  },
  {
   "cell_type": "markdown",
   "id": "567286a6",
   "metadata": {},
   "source": [
    "## Visualisation"
   ]
  },
  {
   "cell_type": "code",
   "execution_count": 4,
   "id": "da57b538",
   "metadata": {},
   "outputs": [
    {
     "data": {
      "image/png": "[encoded data removed]",
      "text/plain": [
       "<Figure size 640x480 with 1 Axes>"
      ]
     },
     "metadata": {},
     "output_type": "display_data"
    }
   ],
   "source": [
    "import matplotlib.pyplot as plt\n",
    "import seaborn as sns\n",
    "\n",
    "sns.barplot(x=\"Sex\", y=\"Survived\", data=df_train)\n",
    "plt.title(\"Survival Rate by Gender\")\n",
    "plt.xticks([0, 1], [\"Male\", \"Female\"])\n",
    "plt.show()"
   ]
  },
  {
   "cell_type": "code",
   "execution_count": 14,
   "id": "3fb51f3d",
   "metadata": {},
   "outputs": [
    {
     "data": {
      "image/png": "[encoded data removed]",
      "text/plain": [
       "<Figure size 640x480 with 1 Axes>"
      ]
     },
     "metadata": {},
     "output_type": "display_data"
    }
   ],
   "source": [
    "import seaborn as sns\n",
    "import matplotlib.pyplot as plt\n",
    "from features import add_age_category\n",
    "\n",
    "\n",
    "\n",
    "df_train = add_age_category(df_train)\n",
    "\n",
    "sns.barplot(x=\"Age_category\", y=\"Survived\", data=df_train)\n",
    "plt.title(\"Survival Rate by Age group\")\n",
    "plt.show()\n"
   ]
  },
  {
   "cell_type": "code",
   "execution_count": 8,
   "id": "e3f8a551",
   "metadata": {},
   "outputs": [
    {
     "data": {
      "image/png": "[encoded data removed]",
      "text/plain": [
       "<Figure size 640x480 with 1 Axes>"
      ]
     },
     "metadata": {},
     "output_type": "display_data"
    }
   ],
   "source": [
    "\n",
    "sns.barplot(x=\"Pclass\", y=\"Survived\", data=df_train)\n",
    "plt.title(\"Survival Rate by Passenger class\")\n",
    "plt.show()"
   ]
  },
  {
   "cell_type": "markdown",
   "id": "e9a25d64",
   "metadata": {},
   "source": [
    "## Models and Accuracy"
   ]
  },
  {
   "cell_type": "code",
   "execution_count": null,
   "id": "79f21389",
   "metadata": {},
   "outputs": [
    {
     "data": {
      "text/html": [
       "<div>\n",
       "<style scoped>\n",
       "    .dataframe tbody tr th:only-of-type {\n",
       "        vertical-align: middle;\n",
       "    }\n",
       "\n",
       "    .dataframe tbody tr th {\n",
       "        vertical-align: top;\n",
       "    }\n",
       "\n",
       "    .dataframe thead th {\n",
       "        text-align: right;\n",
       "    }\n",
       "</style>\n",
       "<table border=\"1\" class=\"dataframe\">\n",
       "  <thead>\n",
       "    <tr style=\"text-align: right;\">\n",
       "      <th></th>\n",
       "      <th>model</th>\n",
       "      <th>accuracy_mean</th>\n",
       "      <th>accuracy_std</th>\n",
       "      <th>roc_auc_mean</th>\n",
       "      <th>roc_auc_std</th>\n",
       "      <th>precision_mean</th>\n",
       "      <th>precision_std</th>\n",
       "      <th>recall_mean</th>\n",
       "      <th>recall_std</th>\n",
       "      <th>f1_mean</th>\n",
       "      <th>f1_std</th>\n",
       "    </tr>\n",
       "  </thead>\n",
       "  <tbody>\n",
       "    <tr>\n",
       "      <th>3</th>\n",
       "      <td>RandomForest</td>\n",
       "      <td>0.829402</td>\n",
       "      <td>0.013141</td>\n",
       "      <td>0.881548</td>\n",
       "      <td>0.015283</td>\n",
       "      <td>0.808666</td>\n",
       "      <td>0.019034</td>\n",
       "      <td>0.728005</td>\n",
       "      <td>0.035932</td>\n",
       "      <td>0.765699</td>\n",
       "      <td>0.022503</td>\n",
       "    </tr>\n",
       "    <tr>\n",
       "      <th>4</th>\n",
       "      <td>GradBoost</td>\n",
       "      <td>0.838365</td>\n",
       "      <td>0.024311</td>\n",
       "      <td>0.872239</td>\n",
       "      <td>0.011237</td>\n",
       "      <td>0.828897</td>\n",
       "      <td>0.044475</td>\n",
       "      <td>0.730861</td>\n",
       "      <td>0.038682</td>\n",
       "      <td>0.776154</td>\n",
       "      <td>0.035108</td>\n",
       "    </tr>\n",
       "    <tr>\n",
       "      <th>0</th>\n",
       "      <td>LogReg</td>\n",
       "      <td>0.803578</td>\n",
       "      <td>0.020529</td>\n",
       "      <td>0.860468</td>\n",
       "      <td>0.020890</td>\n",
       "      <td>0.758451</td>\n",
       "      <td>0.030321</td>\n",
       "      <td>0.716240</td>\n",
       "      <td>0.035259</td>\n",
       "      <td>0.736507</td>\n",
       "      <td>0.030567</td>\n",
       "    </tr>\n",
       "    <tr>\n",
       "      <th>1</th>\n",
       "      <td>KNN(k=5)</td>\n",
       "      <td>0.806930</td>\n",
       "      <td>0.020824</td>\n",
       "      <td>0.859967</td>\n",
       "      <td>0.014701</td>\n",
       "      <td>0.770354</td>\n",
       "      <td>0.039313</td>\n",
       "      <td>0.710571</td>\n",
       "      <td>0.035989</td>\n",
       "      <td>0.738475</td>\n",
       "      <td>0.028373</td>\n",
       "    </tr>\n",
       "    <tr>\n",
       "      <th>2</th>\n",
       "      <td>DecisionTree</td>\n",
       "      <td>0.805825</td>\n",
       "      <td>0.027271</td>\n",
       "      <td>0.851562</td>\n",
       "      <td>0.020682</td>\n",
       "      <td>0.754958</td>\n",
       "      <td>0.036710</td>\n",
       "      <td>0.730776</td>\n",
       "      <td>0.039053</td>\n",
       "      <td>0.742646</td>\n",
       "      <td>0.037698</td>\n",
       "    </tr>\n",
       "  </tbody>\n",
       "</table>\n",
       "</div>"
      ],
      "text/plain": [
       "          model  accuracy_mean  accuracy_std  roc_auc_mean  roc_auc_std  \\\n",
       "3  RandomForest       0.829402      0.013141      0.881548     0.015283   \n",
       "4     GradBoost       0.838365      0.024311      0.872239     0.011237   \n",
       "0        LogReg       0.803578      0.020529      0.860468     0.020890   \n",
       "1      KNN(k=5)       0.806930      0.020824      0.859967     0.014701   \n",
       "2  DecisionTree       0.805825      0.027271      0.851562     0.020682   \n",
       "\n",
       "   precision_mean  precision_std  recall_mean  recall_std   f1_mean    f1_std  \n",
       "3        0.808666       0.019034     0.728005    0.035932  0.765699  0.022503  \n",
       "4        0.828897       0.044475     0.730861    0.038682  0.776154  0.035108  \n",
       "0        0.758451       0.030321     0.716240    0.035259  0.736507  0.030567  \n",
       "1        0.770354       0.039313     0.710571    0.035989  0.738475  0.028373  \n",
       "2        0.754958       0.036710     0.730776    0.039053  0.742646  0.037698  "
      ]
     },
     "execution_count": 27,
     "metadata": {},
     "output_type": "execute_result"
    }
   ],
   "source": [
    "\n",
    "import pandas as pd\n",
    "from features import add_rowwise_features, fit_train_stats, apply_stats, add_age_category\n",
    "from pipeline import get_model_zoo, evaluate_models\n",
    "\n",
    "\n",
    "df_train = pd.read_csv(\"../data/train.csv\")\n",
    "\n",
    "\n",
    "df_feat = add_rowwise_features(df_train)\n",
    "stats = fit_train_stats(df_feat)\n",
    "df_feat = apply_stats(df_feat, stats)\n",
    "df_feat = add_age_category(df_feat)\n",
    "\n",
    "\n",
    "pclass_dummies = pd.get_dummies(df_feat[\"Pclass\"], prefix=\"Pclass\", dtype=int)\n",
    "df_feat = pd.concat([df_feat, pclass_dummies], axis=1)\n",
    "\n",
    "\n",
    "features = [\"Sex\", \"Age\", \"LogFare\", \"FamilySize\", \"HasCabin\", \"Pclass_1\", \"Pclass_2\", \"Pclass_3\"]\n",
    "X = df_feat[features].copy()\n",
    "X[\"Sex\"] = X[\"Sex\"].map({\"male\": 0, \"female\": 1}).astype(int)\n",
    "y = df_feat[\"Survived\"].astype(int)\n",
    "\n",
    "models = get_model_zoo(random_state=42)\n",
    "leaderboard, results = evaluate_models(models, X, y)\n",
    "leaderboard\n"
   ]
  },
  {
   "cell_type": "markdown",
   "id": "04b50dce",
   "metadata": {},
   "source": [
    "\n",
    "\n",
    "The Titanic survival prediction project compared five different machine learning models: Logistic Regression, K-Nearest Neighbors, Decision Tree, Random Forest, and Gradient Boosting.\n",
    "\n",
    "Gradient Boosting achieved the highest overall accuracy (83.8%) and the strongest F1 score, indicating a good balance between precision and recall.\n",
    "\n",
    "Random Forest achieved the highest ROC AUC (0.88), meaning it was the best at ranking survivors versus non-survivors, and delivered stable performance across folds.\n",
    "\n",
    "Logistic Regression, KNN, and Decision Tree all performed reasonably well (around 80% accuracy), providing solid baselines but falling slightly behind the ensemble methods.\n",
    "\n",
    "Overall, ensemble models (Random Forest and Gradient Boosting) outperformed the simpler algorithms, showing that survival on the Titanic involved complex, non-linear relationships between features such as age, sex, class, and family size."
   ]
  },
  {
   "cell_type": "code",
   "execution_count": 29,
   "id": "fb0fa529",
   "metadata": {},
   "outputs": [
    {
     "name": "stderr",
     "output_type": "stream",
     "text": [
      "C:\\Users\\46739\\AppData\\Local\\Temp\\ipykernel_35836\\2645791252.py:7: SettingWithCopyWarning: \n",
      "A value is trying to be set on a copy of a slice from a DataFrame.\n",
      "Try using .loc[row_indexer,col_indexer] = value instead\n",
      "\n",
      "See the caveats in the documentation: https://pandas.pydata.org/pandas-docs/stable/user_guide/indexing.html#returning-a-view-versus-a-copy\n",
      "  X[\"Sex\"] = X[\"Sex\"].map({\"male\": 0, \"female\": 1}).astype(int)\n"
     ]
    },
    {
     "name": "stdout",
     "output_type": "stream",
     "text": [
      "          model  accuracy_mean  accuracy_std  roc_auc_mean  roc_auc_std  \\\n",
      "3  RandomForest       0.829402      0.013141      0.881548     0.015283   \n",
      "4     GradBoost       0.838365      0.024311      0.872239     0.011237   \n",
      "0        LogReg       0.803578      0.020529      0.860468     0.020890   \n",
      "1      KNN(k=5)       0.806930      0.020824      0.859967     0.014701   \n",
      "2  DecisionTree       0.805825      0.027271      0.851562     0.020682   \n",
      "\n",
      "   precision_mean  precision_std  recall_mean  recall_std   f1_mean    f1_std  \n",
      "3        0.808666       0.019034     0.728005    0.035932  0.765699  0.022503  \n",
      "4        0.828897       0.044475     0.730861    0.038682  0.776154  0.035108  \n",
      "0        0.758451       0.030321     0.716240    0.035259  0.736507  0.030567  \n",
      "1        0.770354       0.039313     0.710571    0.035989  0.738475  0.028373  \n",
      "2        0.754958       0.036710     0.730776    0.039053  0.742646  0.037698  \n"
     ]
    },
    {
     "data": {
      "text/plain": [
       "['titanic_model.pkl']"
      ]
     },
     "execution_count": 29,
     "metadata": {},
     "output_type": "execute_result"
    }
   ],
   "source": [
    "from pipeline import get_model_zoo, evaluate_models, holdout_evaluate\n",
    "import joblib\n",
    "\n",
    "# Build feature matrix\n",
    "features = [\"Sex\", \"Age\", \"LogFare\", \"FamilySize\", \"HasCabin\", \"Pclass_1\", \"Pclass_2\", \"Pclass_3\"]\n",
    "X = df_feat[features]\n",
    "X[\"Sex\"] = X[\"Sex\"].map({\"male\": 0, \"female\": 1}).astype(int)\n",
    "y = df_feat[\"Survived\"].astype(int)\n",
    "\n",
    "# Get all models\n",
    "models = get_model_zoo(random_state=42)\n",
    "leaderboard, _ = evaluate_models(models, X, y)\n",
    "\n",
    "print(leaderboard)\n",
    "\n",
    "# Choose the best one, e.g. Gradient Boosting\n",
    "best_model = models[\"GradBoost\"]\n",
    "best_model.fit(X, y)\n",
    "\n",
    "# Save it\n",
    "joblib.dump(best_model, \"titanic_model.pkl\")\n"
   ]
  },
  {
   "cell_type": "code",
   "execution_count": 30,
   "id": "b635649b",
   "metadata": {},
   "outputs": [
    {
     "data": {
      "text/plain": [
       "['titanic_stats.pkl']"
      ]
     },
     "execution_count": 30,
     "metadata": {},
     "output_type": "execute_result"
    }
   ],
   "source": [
    "import joblib\n",
    "\n",
    "# Example: save the fitted model and stats\n",
    "joblib.dump(best_model, \"titanic_model.pkl\")\n",
    "joblib.dump(stats, \"titanic_stats.pkl\")  # if you need imputation info\n"
   ]
  },
  {
   "cell_type": "markdown",
   "id": "6ea36029",
   "metadata": {},
   "source": [
    "## Conclusion\n",
    "\n",
    "In this project, I explored the Titanic dataset to predict passenger survival.\n",
    "\n",
    "EDA revealed that survival was imbalanced (~62% died, ~38% survived) and was strongly influenced by gender (females had higher survival rates) and class (1st class passengers survived more often).\n",
    "\n",
    "Missing values were addressed by imputing Age with title-based medians and Embarked with the most common port, while new features such as FamilySize, HasCabin, Title, and LogFare were engineered.\n",
    "\n",
    "The most important predictors included Sex, Pclass, and Age, with engineered features further improving signal.\n",
    "\n",
    "In model evaluation, Logistic Regression, KNN, and Decision Tree achieved ~80% accuracy, while ensemble models (Random Forest and Gradient Boosting) performed best, reaching ~84% accuracy and an ROC AUC above 0.87."
   ]
  }
 ],
 "metadata": {
  "kernelspec": {
   "display_name": "Python 3",
   "language": "python",
   "name": "python3"
  },
  "language_info": {
   "codemirror_mode": {
    "name": "ipython",
    "version": 3
   },
   "file_extension": ".py",
   "mimetype": "text/x-python",
   "name": "python",
   "nbconvert_exporter": "python",
   "pygments_lexer": "ipython3",
   "version": "3.13.3"
  }
 },
 "nbformat": 4,
 "nbformat_minor": 5
}
